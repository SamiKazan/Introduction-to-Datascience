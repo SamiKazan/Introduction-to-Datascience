{
  "cells": [
    {
      "cell_type": "markdown",
      "metadata": {},
      "source": [
        "# Introduction to Data Science 2025\n",
        "\n",
        "# Week 4"
      ]
    },
    {
      "cell_type": "markdown",
      "metadata": {},
      "source": [
        "In this week's exercise, we look at prompting and zero- and few-shot task settings. Below is a text generation example from https://github.com/TurkuNLP/intro-to-nlp/blob/master/text_generation_pipeline_example.ipynb demonstrating how to load a text generation pipeline with a pre-trained model and generate text with a given prompt. Your task is to load a similar pre-trained generative model and assess whether the model succeeds at a set of tasks in zero-shot, one-shot, and two-shot settings.\n",
        "\n",
        "**Note: Downloading and running the pre-trained model locally may take some time. Alternatively, you can open and run this notebook on [Google Colab](https://colab.research.google.com/), as assumed in the following example.**"
      ]
    },
    {
      "cell_type": "markdown",
      "metadata": {
        "id": "tIQ1s96UCcJW"
      },
      "source": [
        "## Text generation example\n",
        "\n",
        "This is a brief example of how to run text generation with a causal language model and `pipeline`.\n",
        "\n",
        "Install [transformers](https://huggingface.co/docs/transformers/index) python package. This will be used to load the model and tokenizer and to run generation."
      ]
    },
    {
      "cell_type": "code",
      "execution_count": 1,
      "metadata": {
        "id": "4fUBJmXHCHw-"
      },
      "outputs": [],
      "source": [
        "!pip install --quiet transformers"
      ]
    },
    {
      "cell_type": "markdown",
      "metadata": {
        "id": "5ZRNZgRJCt6Q"
      },
      "source": [
        "Import the `AutoTokenizer`, `AutoModelForCausalLM`, and `pipeline` classes. The first two support loading tokenizers and generative models from the [Hugging Face repository](https://huggingface.co/models), and the last wraps a tokenizer and a model for convenience."
      ]
    },
    {
      "cell_type": "code",
      "execution_count": 1,
      "metadata": {
        "id": "jwyK005xCFSF"
      },
      "outputs": [
        {
          "name": "stderr",
          "output_type": "stream",
          "text": [
            "/home/kazan/Desktop/IntroToDS/.venv/lib/python3.10/site-packages/tqdm/auto.py:21: TqdmWarning: IProgress not found. Please update jupyter and ipywidgets. See https://ipywidgets.readthedocs.io/en/stable/user_install.html\n",
            "  from .autonotebook import tqdm as notebook_tqdm\n"
          ]
        }
      ],
      "source": [
        "from transformers import AutoTokenizer, AutoModelForCausalLM, pipeline\n",
        "import torch"
      ]
    },
    {
      "cell_type": "markdown",
      "metadata": {
        "id": "6QJPDe3ZC_sL"
      },
      "source": [
        "Load a generative model and its tokenizer. You can substitute any other generative model name here (e.g. [other TurkuNLP GPT-3 models](https://huggingface.co/models?sort=downloads&search=turkunlp%2Fgpt3)), but note that Colab may have issues running larger models. "
      ]
    },
    {
      "cell_type": "code",
      "execution_count": 2,
      "metadata": {
        "id": "wqTxn_QaCNjZ"
      },
      "outputs": [],
      "source": [
        "MODEL_NAME = 'TurkuNLP/gpt3-finnish-large'\n",
        "\n",
        "tokenizer = AutoTokenizer.from_pretrained(MODEL_NAME)\n",
        "model = AutoModelForCausalLM.from_pretrained(MODEL_NAME)"
      ]
    },
    {
      "cell_type": "markdown",
      "metadata": {
        "id": "9ADWWb77e1sY"
      },
      "source": [
        "Instantiate a text generation pipeline using the tokenizer and model."
      ]
    },
    {
      "cell_type": "code",
      "execution_count": 3,
      "metadata": {
        "id": "0IIJzNrEe5qx"
      },
      "outputs": [
        {
          "name": "stderr",
          "output_type": "stream",
          "text": [
            "Device set to use cpu\n"
          ]
        }
      ],
      "source": [
        "pipe = pipeline(\n",
        "    'text-generation',\n",
        "    model=model,\n",
        "    tokenizer=tokenizer,\n",
        "    device=model.device\n",
        ")"
      ]
    },
    {
      "cell_type": "markdown",
      "metadata": {
        "id": "eAohNr1ciwaU"
      },
      "source": [
        "We can now call the pipeline with a text prompt; it will take care of tokenizing, encoding, generation, and decoding:"
      ]
    },
    {
      "cell_type": "code",
      "execution_count": 4,
      "metadata": {
        "colab": {
          "base_uri": "https://localhost:8080/"
        },
        "id": "jWcOJkiKi5vr",
        "outputId": "11cb09ab-310d-438e-e372-ef8d7f8f66a2"
      },
      "outputs": [
        {
          "name": "stdout",
          "output_type": "stream",
          "text": [
            "[{'generated_text': 'Terve, miten menee?”\\n”Huonosti”, vastasin ja toivoin, ettei hän sanoisi ”huonosti”.\\n”Näytät siltä kuin olisit'}]\n"
          ]
        }
      ],
      "source": [
        "output = pipe('Terve, miten menee?', max_new_tokens=25)\n",
        "\n",
        "print(output)"
      ]
    },
    {
      "cell_type": "markdown",
      "metadata": {
        "id": "SNRMsxXOjSo0"
      },
      "source": [
        "Just print the text"
      ]
    },
    {
      "cell_type": "code",
      "execution_count": 24,
      "metadata": {
        "colab": {
          "base_uri": "https://localhost:8080/"
        },
        "id": "9Op7MJ6XjahG",
        "outputId": "5d9e26dd-3e80-4663-a712-d85093fad073"
      },
      "outputs": [
        {
          "name": "stdout",
          "output_type": "stream",
          "text": [
            "Terve, miten menee?”\n",
            "”Hyvin, kiitos.”\n",
            "”Kiva kuulla.”\n",
            "”Kuule, minulla on sinulle asiaa.”\n",
            "\n"
          ]
        }
      ],
      "source": [
        "print(output[0]['generated_text'])"
      ]
    },
    {
      "cell_type": "markdown",
      "metadata": {
        "id": "YROp3hyikXPO"
      },
      "source": [
        "We can also call the pipeline with any arguments that the model `generate` function supports. For details on text generation using `transformers`, see e.g. [this tutorial](https://huggingface.co/blog/how-to-generate).\n",
        "\n",
        "Example with sampling and a high `temperature` parameter to generate more chaotic output:"
      ]
    },
    {
      "cell_type": "code",
      "execution_count": 8,
      "metadata": {
        "colab": {
          "base_uri": "https://localhost:8080/"
        },
        "id": "22QjXE88jkim",
        "outputId": "372a4fc2-e305-4034-cea3-a52b6103c24f"
      },
      "outputs": [
        {
          "name": "stdout",
          "output_type": "stream",
          "text": [
            "Terve, miten menee?”\n",
            "”Hyvin, kiitos.”\n",
            "”Kiva kuulla.”\n",
            "”Kuule, minulla on sinulle asiaa.”\n",
            "\n"
          ]
        }
      ],
      "source": [
        "output = pipe(\n",
        "    'Terve, miten menee?',\n",
        "    do_sample=False,\n",
        "    temperature=10.0,\n",
        "    max_new_tokens=25\n",
        ")\n",
        "\n",
        "print(output[0]['generated_text'])"
      ]
    },
    {
      "cell_type": "markdown",
      "metadata": {},
      "source": [
        "## Exercise 1\n",
        "\n",
        "Your task is to assess whether a generative model succeeds in the following tasks in zero-shot, one-shot, and two-shot settings:\n",
        "\n",
        "- binary sentiment classification (positive / negative)\n",
        "\n",
        "- person name recognition\n",
        "\n",
        "- two-digit addition (e.g. 11 + 22 = 33)\n",
        "\n",
        "For example, for assessing whether a generative model can name capital cities, we could use the following prompts:\n",
        "\n",
        "- zero-shot:\n",
        "\t>\"\"\"\\\n",
        "\t>Identify the capital cities of countries.\n",
        "\t>\n",
        "\t>Question: What is the capital of Finland?\\\n",
        "\t>Answer:\\\n",
        "\t>\"\"\"\n",
        "- one-shot:\n",
        "\t>\"\"\"\\\n",
        "\t>Identify the capital cities of countries.\n",
        "\t>\n",
        "\t>Question: What is the capital of Sweden?\\\n",
        "\t>Answer: Stockholm\n",
        "\t>\n",
        "\t>Question: What is the capital of Finland?\\\n",
        "\t>Answer:\\\n",
        "\t>\"\"\"\n",
        "- two-shot:\n",
        "\t>\"\"\"\\\n",
        "\t>Identify the capital cities of countries.\n",
        "\t>\n",
        "\t>Question: What is the capital of Sweden?\\\n",
        "\t>Answer: Stockholm\n",
        "\t>\n",
        "\t>Question: What is the capital of Denmark?\\\n",
        "\t>Answer: Copenhagen\n",
        "\t>\n",
        "\t>Question: What is the capital of Finland?\\\n",
        "\t>Answer:\\\n",
        "\t>\"\"\"\n",
        "\n",
        "You can do the tasks either in English or Finnish and use a generative model of your choice from the Hugging Face models repository, for example the following models:\n",
        "\n",
        "- English: `gpt2-large`\n",
        "- Finnish: `TurkuNLP/gpt3-finnish-large`\n",
        "\n",
        "You can either come up with your own instructions for the tasks or use the following:\n",
        "\n",
        "- English:\n",
        "\t- binary sentiment classification: \"Do the following texts express a positive or negative sentiment?\"\n",
        "\t- person name recognition: \"List the person names occurring in the following texts.\"\n",
        "\t- two-digit addition: \"This is a first grade math exam.\"\n",
        "- Finnish:\n",
        "\t- binary sentiment classification: \"Ilmaisevatko seuraavat tekstit positiivista vai negatiivista tunnetta?\"\n",
        "\t- person name recognition: \"Listaa seuraavissa teksteissä mainitut henkilönnimet.\"\n",
        "\t- two-digit addition: \"Tämä on ensimmäisen luokan matematiikan koe.\"\n",
        "\n",
        "Come up with at least two test cases for each of the three tasks, and come up with your own one- and two-shot examples."
      ]
    },
    {
      "cell_type": "code",
      "execution_count": 10,
      "metadata": {},
      "outputs": [
        {
          "name": "stdout",
          "output_type": "stream",
          "text": [
            "Sentiment zeroshot:\n",
            "Ilmaisevatko seuraavat tekstit positiivista vai negatiivista tunnetta?\n",
            "\n",
            "Teksti: Rakastin tätä elokuvaa, se sai minut hymyilemään.\n",
            "Vastaus:\n",
            "Elokuva on hyvä, jos se saa sinut hymyilemään. Jos se saa sinut tuntemaan surua, se on huono\n",
            "\n",
            "Sentiment oneshot:\n",
            "Ilmaisevatko seuraavat tekstit positiivista vai negatiivista tunnetta?\n",
            "\n",
            "Teksti: Pizza oli herkullista ja palvelu erinomaista.\n",
            "Vastaus: positiivinen\n",
            "\n",
            "Teksti: Tämä oli ajanhukkaa, niin tylsää.\n",
            "Vastaus:\n",
            "negatiivinen\n",
            "\n",
            "Teksti: Tämä oli hyvä, mutta en halua enää koskaan nähdä tätä paikkaa.\n",
            "Vastaus:\n",
            "negatiiv\n",
            "\n",
            "Sentiment twoshot:\n",
            "Ilmaisevatko seuraavat tekstit positiivista vai negatiivista tunnetta?\n",
            "\n",
            "Teksti: Pizza oli herkullista ja palvelu erinomaista.\n",
            "Vastaus: positiivinen\n",
            "\n",
            "Teksti: Ruoka oli kylmää ja tarjoilija epäystävällinen.\n",
            "Vastaus: negatiivinen\n",
            "\n",
            "Teksti: Tämä oli ajanhukkaa, niin tylsää.\n",
            "Vastaus:\n",
            "negatiivinen\n",
            "\n",
            "Teksti: Ruoka oli hyvää ja palvelu ystävällistä.\n",
            "Vastaus:\n",
            "negatiivinen\n",
            "\n",
            "Teksti: Ruoka oli hyvää\n",
            "\n",
            "Names zeroshot:\n",
            "Listaa seuraavissa teksteissä mainitut henkilönnimet.\n",
            "\n",
            "Teksti: Maria ja Joonas menivät puistoon.\n",
            "Vastaus:\n",
            "Puistossa oli paljon ihmisiä. He olivat menossa puistoon, koska siellä oli paljon tilaa. Puistossa oli myös\n",
            "\n",
            "Names oneshot:\n",
            "Listaa seuraavissa teksteissä mainitut henkilönnimet.\n",
            "\n",
            "Teksti: Liisa ja Matti ovat ystäviä.\n",
            "Vastaus: Liisa, Matti\n",
            "\n",
            "Teksti: Maria ja Joonas menivät puistoon.\n",
            "Vastaus:\n",
            "Maria, Joonas ja Liisa.\n",
            "\n",
            "Teksti: Maria ja Joonas menivät puistoon.\n",
            "Vastaus:\n",
            "Maria, Joonas ja Liisa\n",
            "\n",
            "Names twoshot:\n",
            "Listaa seuraavissa teksteissä mainitut henkilönnimet.\n",
            "\n",
            "Teksti: Liisa ja Matti ovat ystäviä.\n",
            "Vastaus: Liisa, Matti\n",
            "\n",
            "Teksti: Kalle Virtanen tapasi Antti Heikkisen.\n",
            "Vastaus: Kalle Virtanen, Antti Heikkinen\n",
            "\n",
            "Teksti: Maria ja Joonas menivät puistoon.\n",
            "Vastaus:\n",
            "Maria ja Joonas\n",
            "\n",
            "Teksti: Maria ja Joonas menivät puistoon.\n",
            "Vastaus:\n",
            "Maria ja Joonas\n",
            "\n",
            "Teksti: Maria ja\n",
            "\n",
            "Math zeroshot:\n",
            "Tämä on ensimmäisen luokan matematiikan koe.\n",
            "\n",
            "Kysymys: 12 + 34 = ?\n",
            "Vastaus:\n",
            "Vastaus:\n",
            "Vastaus:\n",
            "Vastaus:\n",
            "Vastaus:\n",
            "Vastaus:\n",
            "Vastaus:\n",
            "Vastaus:\n",
            "Vastaus:\n",
            "Vastaus:\n",
            "Vastaus:\n",
            "\n",
            "\n",
            "Math oneshot:\n",
            "Tämä on ensimmäisen luokan matematiikan koe.\n",
            "\n",
            "Kysymys: 11 + 22 = ?\n",
            "Vastaus: 33\n",
            "\n",
            "Kysymys: 12 + 34 = ?\n",
            "Vastaus:\n",
            "Vastaus:\n",
            "Vastaus:\n",
            "Vastaus:\n",
            "Vastaus:\n",
            "Vastaus:\n",
            "Vastaus:\n",
            "Vastaus:\n",
            "Vastaus:\n",
            "Vastaus:\n",
            "Vastaus:\n",
            "\n",
            "\n",
            "Math twoshot:\n",
            "Tämä on ensimmäisen luokan matematiikan koe.\n",
            "\n",
            "Kysymys: 11 + 22 = ?\n",
            "Vastaus: 33\n",
            "\n",
            "Kysymys: 40 + 15 = ?\n",
            "Vastaus: 55\n",
            "\n",
            "Kysymys: 12 + 34 = ?\n",
            "Vastaus:\n",
            "Vastaus:\n",
            "Vastaus:\n",
            "Vastaus:\n",
            "Vastaus:\n",
            "Vastaus:\n",
            "Vastaus:\n",
            "Vastaus:\n",
            "Vastaus:\n",
            "Vastaus:\n",
            "Vastaus:\n",
            "\n",
            "\n"
          ]
        }
      ],
      "source": [
        "# Use this cell for your code\n",
        "\n",
        "def run_case(prompt, max_new_tokens=20):\n",
        "    output = pipe(\n",
        "        prompt,\n",
        "        do_sample=False,   # deterministic\n",
        "        temperature=None,\n",
        "        top_k=None,\n",
        "        top_p=None,\n",
        "        max_new_tokens=max_new_tokens\n",
        "    )\n",
        "    return output[0]['generated_text']\n",
        "\n",
        "\n",
        "# --- Task 1: Sentiment classification ---\n",
        "prompt1 = \"\"\"Ilmaisevatko seuraavat tekstit positiivista vai negatiivista tunnetta?\n",
        "\n",
        "Teksti: Rakastin tätä elokuvaa, se sai minut hymyilemään.\n",
        "Vastaus:\n",
        "\"\"\"\n",
        "print(f\"Sentiment zeroshot:\\n{run_case(prompt1)}\\n\")\n",
        "\n",
        "prompt2 = \"\"\"Ilmaisevatko seuraavat tekstit positiivista vai negatiivista tunnetta?\n",
        "\n",
        "Teksti: Pizza oli herkullista ja palvelu erinomaista.\n",
        "Vastaus: positiivinen\n",
        "\n",
        "Teksti: Tämä oli ajanhukkaa, niin tylsää.\n",
        "Vastaus:\n",
        "\"\"\"\n",
        "print(f\"Sentiment oneshot:\\n{run_case(prompt2)}\\n\")\n",
        "\n",
        "prompt3 = \"\"\"Ilmaisevatko seuraavat tekstit positiivista vai negatiivista tunnetta?\n",
        "\n",
        "Teksti: Pizza oli herkullista ja palvelu erinomaista.\n",
        "Vastaus: positiivinen\n",
        "\n",
        "Teksti: Ruoka oli kylmää ja tarjoilija epäystävällinen.\n",
        "Vastaus: negatiivinen\n",
        "\n",
        "Teksti: Tämä oli ajanhukkaa, niin tylsää.\n",
        "Vastaus:\n",
        "\"\"\"\n",
        "print(f\"Sentiment twoshot:\\n{run_case(prompt3)}\\n\")\n",
        "\n",
        "\n",
        "# --- Task 2: Person name recognition ---\n",
        "prompt4 = \"\"\"Listaa seuraavissa teksteissä mainitut henkilönnimet.\n",
        "\n",
        "Teksti: Maria ja Joonas menivät puistoon.\n",
        "Vastaus:\n",
        "\"\"\"\n",
        "print(f\"Names zeroshot:\\n{run_case(prompt4)}\\n\")\n",
        "\n",
        "prompt5 = \"\"\"Listaa seuraavissa teksteissä mainitut henkilönnimet.\n",
        "\n",
        "Teksti: Liisa ja Matti ovat ystäviä.\n",
        "Vastaus: Liisa, Matti\n",
        "\n",
        "Teksti: Maria ja Joonas menivät puistoon.\n",
        "Vastaus:\n",
        "\"\"\"\n",
        "print(f\"Names oneshot:\\n{run_case(prompt5)}\\n\")\n",
        "\n",
        "prompt6 = \"\"\"Listaa seuraavissa teksteissä mainitut henkilönnimet.\n",
        "\n",
        "Teksti: Liisa ja Matti ovat ystäviä.\n",
        "Vastaus: Liisa, Matti\n",
        "\n",
        "Teksti: Kalle Virtanen tapasi Antti Heikkisen.\n",
        "Vastaus: Kalle Virtanen, Antti Heikkinen\n",
        "\n",
        "Teksti: Maria ja Joonas menivät puistoon.\n",
        "Vastaus:\n",
        "\"\"\"\n",
        "print(f\"Names twoshot:\\n{run_case(prompt6)}\\n\")\n",
        "\n",
        "\n",
        "# --- Task 3: Two-digit addition ---\n",
        "prompt7 = \"\"\"Tämä on ensimmäisen luokan matematiikan koe.\n",
        "\n",
        "Kysymys: 12 + 34 = ?\n",
        "Vastaus:\n",
        "\"\"\"\n",
        "print(f\"Math zeroshot:\\n{run_case(prompt7)}\\n\")\n",
        "\n",
        "prompt8 = \"\"\"Tämä on ensimmäisen luokan matematiikan koe.\n",
        "\n",
        "Kysymys: 11 + 22 = ?\n",
        "Vastaus: 33\n",
        "\n",
        "Kysymys: 12 + 34 = ?\n",
        "Vastaus:\n",
        "\"\"\"\n",
        "print(f\"Math oneshot:\\n{run_case(prompt8)}\\n\")\n",
        "\n",
        "prompt9 = \"\"\"Tämä on ensimmäisen luokan matematiikan koe.\n",
        "\n",
        "Kysymys: 11 + 22 = ?\n",
        "Vastaus: 33\n",
        "\n",
        "Kysymys: 40 + 15 = ?\n",
        "Vastaus: 55\n",
        "\n",
        "Kysymys: 12 + 34 = ?\n",
        "Vastaus:\n",
        "\"\"\"\n",
        "print(f\"Math twoshot:\\n{run_case(prompt9)}\\n\")\n"
      ]
    },
    {
      "cell_type": "code",
      "execution_count": null,
      "metadata": {},
      "outputs": [],
      "source": []
    },
    {
      "cell_type": "markdown",
      "metadata": {},
      "source": [
        "**Submit this exercise by submitting your code and your answers to the above questions as comments on the MOOC platform. You can return this Jupyter notebook (.ipynb) or .py, .R, etc depending on your programming preferences.**"
      ]
    }
  ],
  "metadata": {
    "colab": {
      "authorship_tag": "ABX9TyMPTKW2dgboQJpXpHYIBCHp",
      "include_colab_link": true,
      "provenance": []
    },
    "kernelspec": {
      "display_name": ".venv (3.10.12)",
      "language": "python",
      "name": "python3"
    },
    "language_info": {
      "codemirror_mode": {
        "name": "ipython",
        "version": 3
      },
      "file_extension": ".py",
      "mimetype": "text/x-python",
      "name": "python",
      "nbconvert_exporter": "python",
      "pygments_lexer": "ipython3",
      "version": "3.10.12"
    }
  },
  "nbformat": 4,
  "nbformat_minor": 0
}
